{
 "cells": [
  {
   "cell_type": "code",
   "execution_count": 1,
   "metadata": {},
   "outputs": [],
   "source": [
    "import os\n",
    "import pickle\n",
    "import config\n",
    "import dnnlib\n",
    "import gzip\n",
    "import json\n",
    "import numpy as np\n",
    "from tqdm import tqdm_notebook\n",
    "import warnings\n",
    "import matplotlib.pylab as plt\n",
    "%matplotlib inline\n",
    "warnings.filterwarnings(\"ignore\")"
   ]
  },
  {
   "cell_type": "markdown",
   "metadata": {},
   "source": [
    "### Import pre-trained latent space from FFHQ data"
   ]
  },
  {
   "cell_type": "code",
   "execution_count": 2,
   "metadata": {},
   "outputs": [
    {
     "data": {
      "text/plain": [
       "{'faceId': 'b6807d9a-0ab5-4595-9037-c69c656c5c38',\n",
       " 'faceRectangle': {'top': 322, 'left': 223, 'width': 584, 'height': 584},\n",
       " 'faceLandmarks': {'pupilLeft': {'x': 386.0, 'y': 480.7},\n",
       "  'pupilRight': {'x': 641.7, 'y': 481.1},\n",
       "  'noseTip': {'x': 518.0, 'y': 648.1},\n",
       "  'mouthLeft': {'x': 388.9, 'y': 748.0},\n",
       "  'mouthRight': {'x': 645.1, 'y': 741.8},\n",
       "  'eyebrowLeftOuter': {'x': 304.3, 'y': 441.0},\n",
       "  'eyebrowLeftInner': {'x': 466.8, 'y': 442.9},\n",
       "  'eyeLeftOuter': {'x': 345.4, 'y': 485.3},\n",
       "  'eyeLeftTop': {'x': 385.2, 'y': 464.8},\n",
       "  'eyeLeftBottom': {'x': 386.5, 'y': 497.1},\n",
       "  'eyeLeftInner': {'x': 424.6, 'y': 487.6},\n",
       "  'eyebrowRightInner': {'x': 572.8, 'y': 448.0},\n",
       "  'eyebrowRightOuter': {'x': 738.0, 'y': 445.0},\n",
       "  'eyeRightInner': {'x': 603.8, 'y': 485.0},\n",
       "  'eyeRightTop': {'x': 646.0, 'y': 466.2},\n",
       "  'eyeRightBottom': {'x': 644.9, 'y': 496.9},\n",
       "  'eyeRightOuter': {'x': 686.7, 'y': 485.3},\n",
       "  'noseRootLeft': {'x': 475.1, 'y': 493.3},\n",
       "  'noseRootRight': {'x': 547.5, 'y': 493.9},\n",
       "  'noseLeftAlarTop': {'x': 456.7, 'y': 590.5},\n",
       "  'noseRightAlarTop': {'x': 564.5, 'y': 587.1},\n",
       "  'noseLeftAlarOutTip': {'x': 425.6, 'y': 643.8},\n",
       "  'noseRightAlarOutTip': {'x': 595.7, 'y': 638.2},\n",
       "  'upperLipTop': {'x': 524.0, 'y': 737.2},\n",
       "  'upperLipBottom': {'x': 523.8, 'y': 756.8},\n",
       "  'underLipTop': {'x': 522.6, 'y': 770.5},\n",
       "  'underLipBottom': {'x': 525.5, 'y': 800.8}},\n",
       " 'faceAttributes': {'smile': 0.999,\n",
       "  'headPose': {'pitch': 0.0, 'roll': -0.4, 'yaw': 3.1},\n",
       "  'gender': 'male',\n",
       "  'age': 50.0,\n",
       "  'facialHair': {'moustache': 0.1, 'beard': 0.1, 'sideburns': 0.1},\n",
       "  'glasses': 'NoGlasses',\n",
       "  'emotion': {'anger': 0.0,\n",
       "   'contempt': 0.0,\n",
       "   'disgust': 0.0,\n",
       "   'fear': 0.0,\n",
       "   'happiness': 0.999,\n",
       "   'neutral': 0.001,\n",
       "   'sadness': 0.0,\n",
       "   'surprise': 0.0},\n",
       "  'blur': {'blurLevel': 'low', 'value': 0.06},\n",
       "  'exposure': {'exposureLevel': 'goodExposure', 'value': 0.71},\n",
       "  'noise': {'noiseLevel': 'low', 'value': 0.09},\n",
       "  'makeup': {'eyeMakeup': False, 'lipMakeup': False},\n",
       "  'accessories': [],\n",
       "  'occlusion': {'foreheadOccluded': False,\n",
       "   'eyeOccluded': False,\n",
       "   'mouthOccluded': False},\n",
       "  'hair': {'bald': 0.11,\n",
       "   'invisible': False,\n",
       "   'hairColor': [{'color': 'brown', 'confidence': 1.0},\n",
       "    {'color': 'gray', 'confidence': 0.65},\n",
       "    {'color': 'blond', 'confidence': 0.36},\n",
       "    {'color': 'black', 'confidence': 0.23},\n",
       "    {'color': 'red', 'confidence': 0.2},\n",
       "    {'color': 'other', 'confidence': 0.04}]}}}"
      ]
     },
     "execution_count": 2,
     "metadata": {},
     "output_type": "execute_result"
    }
   ],
   "source": [
    "LATENT_TRAINING_DATA = 'https://drive.google.com/uc?id=1xMM3AFq0r014IIhBLiMCjKJJvbhLUQ9t'\n",
    "    \n",
    "with dnnlib.util.open_url(LATENT_TRAINING_DATA, cache_dir=config.cache_dir) as f:\n",
    "    qlatent_data, dlatent_data, labels_data = pickle.load(gzip.GzipFile(fileobj=f))\n",
    "\n",
    "    \n",
    "labels_data[0] "
   ]
  },
  {
   "cell_type": "markdown",
   "metadata": {},
   "source": [
    "### Creating latent direction by assigning weights to the latent space through fitting a regression model"
   ]
  },
  {
   "cell_type": "code",
   "execution_count": 3,
   "metadata": {},
   "outputs": [
    {
     "name": "stdout",
     "output_type": "stream",
     "text": [
      "[0.90595766 0.90300345 0.90224083 0.90470328 0.90248707]\n",
      "Mean:  0.9036784554985026\n"
     ]
    }
   ],
   "source": [
    "X_data = dlatent_data.reshape((-1, 18*512))\n",
    "from sklearn.linear_model import LogisticRegression, SGDClassifier\n",
    "from sklearn.model_selection import StratifiedKFold, cross_val_score, train_test_split\n",
    "from sklearn.metrics import accuracy_score\n",
    "y_gender_data = np.array([x['faceAttributes']['gender'] == 'male' for x in labels_data])\n",
    "clf_gender = LogisticRegression(class_weight='balanced').fit(X_data, y_gender_data)\n",
    "gender_direction = clf_gender.coef_.reshape((18, 512))\n",
    "\n",
    "scores = cross_val_score(clf_gender, X_data, y_gender_data, scoring='accuracy', cv=5)\n",
    "clf_gender.fit(X_data, y_gender_data)\n",
    "\n",
    "print(scores)\n",
    "print('Mean: ', np.mean(scores))\n",
    "\n",
    "##export the trained directions\n",
    "np.save('ffhq_dataset\\latent_directions\\gender_direction.npy',gender_direction)"
   ]
  },
  {
   "cell_type": "code",
   "execution_count": null,
   "metadata": {},
   "outputs": [],
   "source": []
  },
  {
   "cell_type": "code",
   "execution_count": null,
   "metadata": {},
   "outputs": [],
   "source": []
  }
 ],
 "metadata": {
  "kernelspec": {
   "display_name": "Python 3",
   "language": "python",
   "name": "python3"
  },
  "language_info": {
   "codemirror_mode": {
    "name": "ipython",
    "version": 3
   },
   "file_extension": ".py",
   "mimetype": "text/x-python",
   "name": "python",
   "nbconvert_exporter": "python",
   "pygments_lexer": "ipython3",
   "version": "3.7.6"
  }
 },
 "nbformat": 4,
 "nbformat_minor": 4
}
